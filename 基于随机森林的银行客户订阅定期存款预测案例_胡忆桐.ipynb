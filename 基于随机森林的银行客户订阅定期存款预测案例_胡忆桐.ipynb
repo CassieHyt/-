{
 "cells": [
  {
   "cell_type": "markdown",
   "metadata": {},
   "source": [
    "# 基于随机森林的银行客户订阅定期存款预测案例"
   ]
  },
  {
   "cell_type": "markdown",
   "metadata": {},
   "source": [
    "## 0.前言"
   ]
  },
  {
   "cell_type": "markdown",
   "metadata": {},
   "source": [
    "在本案例中，我们使用了葡萄牙银行机构营销数据集(https://archive.ics.uci.edu/ml/datasets/Bank+Marketing) ，我们选取的是网页中提供的四个数据集中的第四个：bank.csv，其中包含了4521个样本,17个特征。我们主要利用其中和客户个人信息及接受的营销活动相关的变量（前16个），通过特征预处理、变换等方法构建基本特征，建立随机森林的模型，对'客户是否订阅定期存款'变量（变量名为'y'）进行预测，并评估模型的预测效果。特征的详细含义如下表所示。"
   ]
  },
  {
   "cell_type": "code",
   "execution_count": 438,
   "metadata": {},
   "outputs": [
    {
     "data": {
      "text/html": [
       "<div>\n",
       "<style>\n",
       "    .dataframe thead tr:only-child th {\n",
       "        text-align: right;\n",
       "    }\n",
       "\n",
       "    .dataframe thead th {\n",
       "        text-align: left;\n",
       "    }\n",
       "\n",
       "    .dataframe tbody tr th {\n",
       "        vertical-align: top;\n",
       "    }\n",
       "</style>\n",
       "<table border=\"1\" class=\"dataframe\">\n",
       "  <thead>\n",
       "    <tr style=\"text-align: right;\">\n",
       "      <th></th>\n",
       "      <th>变量序号</th>\n",
       "      <th>变量类型</th>\n",
       "      <th>变量名</th>\n",
       "      <th>变量含义</th>\n",
       "      <th>备注</th>\n",
       "    </tr>\n",
       "  </thead>\n",
       "  <tbody>\n",
       "    <tr>\n",
       "      <th>0</th>\n",
       "      <td>1</td>\n",
       "      <td>数值变量</td>\n",
       "      <td>age</td>\n",
       "      <td>银行客户年龄</td>\n",
       "      <td>无</td>\n",
       "    </tr>\n",
       "    <tr>\n",
       "      <th>1</th>\n",
       "      <td>2</td>\n",
       "      <td>类别变量</td>\n",
       "      <td>job</td>\n",
       "      <td>工作类型</td>\n",
       "      <td>分类：{'admin.','blue-collar','entrepreneur','hou...</td>\n",
       "    </tr>\n",
       "    <tr>\n",
       "      <th>2</th>\n",
       "      <td>3</td>\n",
       "      <td>类别变量</td>\n",
       "      <td>marital</td>\n",
       "      <td>婚姻状况</td>\n",
       "      <td>分类：{'divorced','married','single'}</td>\n",
       "    </tr>\n",
       "    <tr>\n",
       "      <th>3</th>\n",
       "      <td>4</td>\n",
       "      <td>类别变量</td>\n",
       "      <td>education</td>\n",
       "      <td>教育情况</td>\n",
       "      <td>分类：{primary','secondary','tertiary'}</td>\n",
       "    </tr>\n",
       "    <tr>\n",
       "      <th>4</th>\n",
       "      <td>5</td>\n",
       "      <td>类别变量</td>\n",
       "      <td>default</td>\n",
       "      <td>是否信用违约</td>\n",
       "      <td>分类：{'是'，'不是'}</td>\n",
       "    </tr>\n",
       "    <tr>\n",
       "      <th>5</th>\n",
       "      <td>6</td>\n",
       "      <td>数值变量</td>\n",
       "      <td>balance</td>\n",
       "      <td>余额</td>\n",
       "      <td>无</td>\n",
       "    </tr>\n",
       "    <tr>\n",
       "      <th>6</th>\n",
       "      <td>7</td>\n",
       "      <td>类别变量</td>\n",
       "      <td>housing</td>\n",
       "      <td>是否有住房贷款</td>\n",
       "      <td>分类：{'是'，'不是'}</td>\n",
       "    </tr>\n",
       "    <tr>\n",
       "      <th>7</th>\n",
       "      <td>8</td>\n",
       "      <td>类别变量</td>\n",
       "      <td>loan</td>\n",
       "      <td>是否有个人贷款</td>\n",
       "      <td>分类：{'是'，'不是'}</td>\n",
       "    </tr>\n",
       "    <tr>\n",
       "      <th>8</th>\n",
       "      <td>9</td>\n",
       "      <td>类别变量</td>\n",
       "      <td>contact</td>\n",
       "      <td>联系方式类型</td>\n",
       "      <td>分类：{'cellular','telephone'}</td>\n",
       "    </tr>\n",
       "    <tr>\n",
       "      <th>9</th>\n",
       "      <td>10</td>\n",
       "      <td>类别变量</td>\n",
       "      <td>day</td>\n",
       "      <td>上次联系的日期（一个月中的几号）</td>\n",
       "      <td>无</td>\n",
       "    </tr>\n",
       "    <tr>\n",
       "      <th>10</th>\n",
       "      <td>11</td>\n",
       "      <td>类别变量</td>\n",
       "      <td>month</td>\n",
       "      <td>上次联系的月份</td>\n",
       "      <td>无</td>\n",
       "    </tr>\n",
       "    <tr>\n",
       "      <th>11</th>\n",
       "      <td>12</td>\n",
       "      <td>数值变量</td>\n",
       "      <td>duration</td>\n",
       "      <td>上次联系时长</td>\n",
       "      <td>无</td>\n",
       "    </tr>\n",
       "    <tr>\n",
       "      <th>12</th>\n",
       "      <td>13</td>\n",
       "      <td>数值变量</td>\n",
       "      <td>campaign</td>\n",
       "      <td>该次营销活动期间和客户联系的次数</td>\n",
       "      <td>999代表该客户以前没有联系过</td>\n",
       "    </tr>\n",
       "    <tr>\n",
       "      <th>13</th>\n",
       "      <td>14</td>\n",
       "      <td>数值变量</td>\n",
       "      <td>pdays</td>\n",
       "      <td>距离上次联系客户的间隔天数</td>\n",
       "      <td>无</td>\n",
       "    </tr>\n",
       "    <tr>\n",
       "      <th>14</th>\n",
       "      <td>15</td>\n",
       "      <td>数值变量</td>\n",
       "      <td>previous</td>\n",
       "      <td>该次营销活动之前和客户联系的次数</td>\n",
       "      <td>无</td>\n",
       "    </tr>\n",
       "    <tr>\n",
       "      <th>15</th>\n",
       "      <td>16</td>\n",
       "      <td>数值变量</td>\n",
       "      <td>poutcome</td>\n",
       "      <td>以往的营销活动的结果</td>\n",
       "      <td>分类：{'unknown', 'failure','other','success'}</td>\n",
       "    </tr>\n",
       "    <tr>\n",
       "      <th>16</th>\n",
       "      <td>17</td>\n",
       "      <td>类别变量</td>\n",
       "      <td>y</td>\n",
       "      <td>是否订阅定期存款</td>\n",
       "      <td>分类：{'是'，'不是'}</td>\n",
       "    </tr>\n",
       "  </tbody>\n",
       "</table>\n",
       "</div>"
      ],
      "text/plain": [
       "    变量序号  变量类型        变量名              变量含义  \\\n",
       "0      1  数值变量        age            银行客户年龄   \n",
       "1      2  类别变量        job              工作类型   \n",
       "2      3  类别变量    marital              婚姻状况   \n",
       "3      4  类别变量  education              教育情况   \n",
       "4      5  类别变量    default            是否信用违约   \n",
       "5      6  数值变量    balance                余额   \n",
       "6      7  类别变量    housing           是否有住房贷款   \n",
       "7      8  类别变量       loan           是否有个人贷款   \n",
       "8      9  类别变量    contact            联系方式类型   \n",
       "9     10  类别变量        day  上次联系的日期（一个月中的几号）   \n",
       "10    11  类别变量      month           上次联系的月份   \n",
       "11    12  数值变量   duration            上次联系时长   \n",
       "12    13  数值变量   campaign  该次营销活动期间和客户联系的次数   \n",
       "13    14  数值变量      pdays     距离上次联系客户的间隔天数   \n",
       "14    15  数值变量   previous  该次营销活动之前和客户联系的次数   \n",
       "15    16  数值变量   poutcome        以往的营销活动的结果   \n",
       "16    17  类别变量          y          是否订阅定期存款   \n",
       "\n",
       "                                                   备注  \n",
       "0                                                   无  \n",
       "1   分类：{'admin.','blue-collar','entrepreneur','hou...  \n",
       "2                  分类：{'divorced','married','single'}  \n",
       "3                分类：{primary','secondary','tertiary'}  \n",
       "4                                       分类：{'是'，'不是'}  \n",
       "5                                                   无  \n",
       "6                                       分类：{'是'，'不是'}  \n",
       "7                                       分类：{'是'，'不是'}  \n",
       "8                         分类：{'cellular','telephone'}  \n",
       "9                                                   无  \n",
       "10                                                  无  \n",
       "11                                                  无  \n",
       "12                                    999代表该客户以前没有联系过  \n",
       "13                                                  无  \n",
       "14                                                  无  \n",
       "15        分类：{'unknown', 'failure','other','success'}  \n",
       "16                                      分类：{'是'，'不是'}  "
      ]
     },
     "execution_count": 438,
     "metadata": {},
     "output_type": "execute_result"
    }
   ],
   "source": [
    "import pandas as pd\n",
    "summary = pd.read_csv('summary.csv',encoding=\"gb2312\")\n",
    "summary"
   ]
  },
  {
   "cell_type": "markdown",
   "metadata": {},
   "source": [
    "## 1. 数据准备"
   ]
  },
  {
   "cell_type": "code",
   "execution_count": 3,
   "metadata": {},
   "outputs": [
    {
     "name": "stdout",
     "output_type": "stream",
     "text": [
      "The Python version is 3.6.1\n"
     ]
    }
   ],
   "source": [
    "## 当前python的运行版本\n",
    "import sys\n",
    "print(\"The Python version is %s.%s.%s\" % sys.version_info[:3])\n",
    "## 导入相关包\n",
    "import pandas as pd\n",
    "import numpy as np\n",
    "from sklearn import grid_search\n",
    "from sklearn import model_selection\n",
    "from sklearn import metrics\n",
    "from sklearn.preprocessing import LabelEncoder\n",
    "from sklearn.preprocessing import StandardScaler\n",
    "from sklearn.preprocessing import PolynomialFeatures\n",
    "from sklearn.model_selection import StratifiedKFold\n",
    "from sklearn.cross_validation import train_test_split\n",
    "from sklearn.ensemble import RandomForestClassifier\n",
    "from sklearn.grid_search import GridSearchCV\n",
    "from sklearn.metrics import classification_report \n",
    "from sklearn.metrics import roc_auc_score\n",
    "from sklearn.metrics import confusion_matrix\n",
    "from sklearn.metrics import roc_curve\n",
    "from mlxtend.plotting import plot_confusion_matrix\n",
    "import seaborn as sns\n",
    "import matplotlib.pyplot as plt\n",
    "%matplotlib inline\n",
    "import warnings\n",
    "warnings.filterwarnings('ignore')"
   ]
  },
  {
   "cell_type": "code",
   "execution_count": 4,
   "metadata": {},
   "outputs": [
    {
     "name": "stdout",
     "output_type": "stream",
     "text": [
      "(4521, 17)\n"
     ]
    },
    {
     "data": {
      "text/html": [
       "<div>\n",
       "<style>\n",
       "    .dataframe thead tr:only-child th {\n",
       "        text-align: right;\n",
       "    }\n",
       "\n",
       "    .dataframe thead th {\n",
       "        text-align: left;\n",
       "    }\n",
       "\n",
       "    .dataframe tbody tr th {\n",
       "        vertical-align: top;\n",
       "    }\n",
       "</style>\n",
       "<table border=\"1\" class=\"dataframe\">\n",
       "  <thead>\n",
       "    <tr style=\"text-align: right;\">\n",
       "      <th></th>\n",
       "      <th>age</th>\n",
       "      <th>job</th>\n",
       "      <th>marital</th>\n",
       "      <th>education</th>\n",
       "      <th>default</th>\n",
       "      <th>balance</th>\n",
       "      <th>housing</th>\n",
       "      <th>loan</th>\n",
       "      <th>contact</th>\n",
       "      <th>day</th>\n",
       "      <th>month</th>\n",
       "      <th>duration</th>\n",
       "      <th>campaign</th>\n",
       "      <th>pdays</th>\n",
       "      <th>previous</th>\n",
       "      <th>poutcome</th>\n",
       "      <th>y</th>\n",
       "    </tr>\n",
       "  </thead>\n",
       "  <tbody>\n",
       "    <tr>\n",
       "      <th>0</th>\n",
       "      <td>30</td>\n",
       "      <td>unemployed</td>\n",
       "      <td>married</td>\n",
       "      <td>primary</td>\n",
       "      <td>no</td>\n",
       "      <td>1787</td>\n",
       "      <td>no</td>\n",
       "      <td>no</td>\n",
       "      <td>cellular</td>\n",
       "      <td>19</td>\n",
       "      <td>oct</td>\n",
       "      <td>79</td>\n",
       "      <td>1</td>\n",
       "      <td>-1</td>\n",
       "      <td>0</td>\n",
       "      <td>unknown</td>\n",
       "      <td>no</td>\n",
       "    </tr>\n",
       "    <tr>\n",
       "      <th>1</th>\n",
       "      <td>33</td>\n",
       "      <td>services</td>\n",
       "      <td>married</td>\n",
       "      <td>secondary</td>\n",
       "      <td>no</td>\n",
       "      <td>4789</td>\n",
       "      <td>yes</td>\n",
       "      <td>yes</td>\n",
       "      <td>cellular</td>\n",
       "      <td>11</td>\n",
       "      <td>may</td>\n",
       "      <td>220</td>\n",
       "      <td>1</td>\n",
       "      <td>339</td>\n",
       "      <td>4</td>\n",
       "      <td>failure</td>\n",
       "      <td>no</td>\n",
       "    </tr>\n",
       "    <tr>\n",
       "      <th>2</th>\n",
       "      <td>35</td>\n",
       "      <td>management</td>\n",
       "      <td>single</td>\n",
       "      <td>tertiary</td>\n",
       "      <td>no</td>\n",
       "      <td>1350</td>\n",
       "      <td>yes</td>\n",
       "      <td>no</td>\n",
       "      <td>cellular</td>\n",
       "      <td>16</td>\n",
       "      <td>apr</td>\n",
       "      <td>185</td>\n",
       "      <td>1</td>\n",
       "      <td>330</td>\n",
       "      <td>1</td>\n",
       "      <td>failure</td>\n",
       "      <td>no</td>\n",
       "    </tr>\n",
       "    <tr>\n",
       "      <th>3</th>\n",
       "      <td>30</td>\n",
       "      <td>management</td>\n",
       "      <td>married</td>\n",
       "      <td>tertiary</td>\n",
       "      <td>no</td>\n",
       "      <td>1476</td>\n",
       "      <td>yes</td>\n",
       "      <td>yes</td>\n",
       "      <td>unknown</td>\n",
       "      <td>3</td>\n",
       "      <td>jun</td>\n",
       "      <td>199</td>\n",
       "      <td>4</td>\n",
       "      <td>-1</td>\n",
       "      <td>0</td>\n",
       "      <td>unknown</td>\n",
       "      <td>no</td>\n",
       "    </tr>\n",
       "    <tr>\n",
       "      <th>4</th>\n",
       "      <td>59</td>\n",
       "      <td>blue-collar</td>\n",
       "      <td>married</td>\n",
       "      <td>secondary</td>\n",
       "      <td>no</td>\n",
       "      <td>0</td>\n",
       "      <td>yes</td>\n",
       "      <td>no</td>\n",
       "      <td>unknown</td>\n",
       "      <td>5</td>\n",
       "      <td>may</td>\n",
       "      <td>226</td>\n",
       "      <td>1</td>\n",
       "      <td>-1</td>\n",
       "      <td>0</td>\n",
       "      <td>unknown</td>\n",
       "      <td>no</td>\n",
       "    </tr>\n",
       "  </tbody>\n",
       "</table>\n",
       "</div>"
      ],
      "text/plain": [
       "   age          job  marital  education default  balance housing loan  \\\n",
       "0   30   unemployed  married    primary      no     1787      no   no   \n",
       "1   33     services  married  secondary      no     4789     yes  yes   \n",
       "2   35   management   single   tertiary      no     1350     yes   no   \n",
       "3   30   management  married   tertiary      no     1476     yes  yes   \n",
       "4   59  blue-collar  married  secondary      no        0     yes   no   \n",
       "\n",
       "    contact  day month  duration  campaign  pdays  previous poutcome   y  \n",
       "0  cellular   19   oct        79         1     -1         0  unknown  no  \n",
       "1  cellular   11   may       220         1    339         4  failure  no  \n",
       "2  cellular   16   apr       185         1    330         1  failure  no  \n",
       "3   unknown    3   jun       199         4     -1         0  unknown  no  \n",
       "4   unknown    5   may       226         1     -1         0  unknown  no  "
      ]
     },
     "execution_count": 4,
     "metadata": {},
     "output_type": "execute_result"
    }
   ],
   "source": [
    "## 数据导入\n",
    "df = pd.read_csv('bank.csv',sep=\";\")\n",
    "print(df.shape)\n",
    "df.head(5)"
   ]
  },
  {
   "cell_type": "markdown",
   "metadata": {},
   "source": [
    "## 2.特征工程"
   ]
  },
  {
   "cell_type": "markdown",
   "metadata": {},
   "source": [
    "### 1) 缺失值处理"
   ]
  },
  {
   "cell_type": "markdown",
   "metadata": {},
   "source": [
    "通过检查数据，我们发现数据不存在NaN，但部分特征如'job'、'education'，存在小部分取值为'unknown'的样本，对于这些样本，我们采取用众数替换的方法。而对于特征如'contact'、'poutcome'，有相当比重的数据为'unknown'，所以我们考虑保留'unknown'。"
   ]
  },
  {
   "cell_type": "code",
   "execution_count": 5,
   "metadata": {},
   "outputs": [
    {
     "data": {
      "text/plain": [
       "age          0\n",
       "job          0\n",
       "marital      0\n",
       "education    0\n",
       "default      0\n",
       "balance      0\n",
       "housing      0\n",
       "loan         0\n",
       "contact      0\n",
       "day          0\n",
       "month        0\n",
       "duration     0\n",
       "campaign     0\n",
       "pdays        0\n",
       "previous     0\n",
       "poutcome     0\n",
       "y            0\n",
       "dtype: int64"
      ]
     },
     "execution_count": 5,
     "metadata": {},
     "output_type": "execute_result"
    }
   ],
   "source": [
    "df.isnull().sum()"
   ]
  },
  {
   "cell_type": "code",
   "execution_count": 6,
   "metadata": {},
   "outputs": [
    {
     "name": "stdout",
     "output_type": "stream",
     "text": [
      "management    969\n",
      "Name: job, dtype: int64\n"
     ]
    }
   ],
   "source": [
    "## 查看job的众数\n",
    "print(df.job.value_counts().head(1))\n",
    "## 将样本job为\"unknown\"的替换为job的众数\"management\"\n",
    "df.job[df.job == \"unknown\"] = \"management\""
   ]
  },
  {
   "cell_type": "code",
   "execution_count": 7,
   "metadata": {},
   "outputs": [
    {
     "name": "stdout",
     "output_type": "stream",
     "text": [
      "secondary    2306\n",
      "Name: education, dtype: int64\n"
     ]
    }
   ],
   "source": [
    "## 查看education的众数\n",
    "print(df.education.value_counts().head(1))\n",
    "## 将样本education为\"unknown\"的替换为education的众数\"secondary\"\n",
    "df.education[df.education == \"unknown\"] = \"secondary\""
   ]
  },
  {
   "cell_type": "code",
   "execution_count": 8,
   "metadata": {},
   "outputs": [
    {
     "name": "stdout",
     "output_type": "stream",
     "text": [
      "cellular     2896\n",
      "unknown      1324\n",
      "telephone     301\n",
      "Name: contact, dtype: int64\n"
     ]
    }
   ],
   "source": [
    "print(df.contact.value_counts())"
   ]
  },
  {
   "cell_type": "code",
   "execution_count": 9,
   "metadata": {},
   "outputs": [
    {
     "name": "stdout",
     "output_type": "stream",
     "text": [
      "unknown    3705\n",
      "failure     490\n",
      "other       197\n",
      "success     129\n",
      "Name: poutcome, dtype: int64\n"
     ]
    }
   ],
   "source": [
    "print(df.poutcome.value_counts())"
   ]
  },
  {
   "cell_type": "markdown",
   "metadata": {},
   "source": [
    "### 2) 类别变量的预处理"
   ]
  },
  {
   "cell_type": "markdown",
   "metadata": {},
   "source": [
    "对于类别变量，我们分有序和无序两种分别处理。对于有序的类别变量，如'education'，我们将小学（'primary'），中学（'secondary'）和大学（'tertiary'）分别编码为1，2，3。对于无序的类别变量，若是逻辑型的二值变量，如'default','housing','loan','y'，我们直接编码为0，1；若是有多类别的类别变量，如'job','marital','contact','month'，我们采用离散特征编码，将其转化为虚拟变量。"
   ]
  },
  {
   "cell_type": "code",
   "execution_count": 10,
   "metadata": {
    "collapsed": true
   },
   "outputs": [],
   "source": [
    "## 处理'education'\n",
    "education_mapping = {\n",
    "    'primary':1,\n",
    "    'secondary':2,\n",
    "    'tertiary':3\n",
    "}\n",
    "df['education']=df['education'].map(education_mapping)\n",
    "default_mapping = {label:idx for idx,label in enumerate(np.unique([df['default']]))}\n",
    "\n",
    "## 处理'default','housing','loan','y'\n",
    "df['default']=df['default'].map(default_mapping)\n",
    "housing_mapping = {label:idx for idx,label in enumerate(np.unique([df['housing']]))}\n",
    "df['housing']=df['housing'].map(housing_mapping)\n",
    "loan_mapping = {label:idx for idx,label in enumerate(np.unique([df['loan']]))}\n",
    "df['loan']=df['loan'].map(loan_mapping)\n",
    "y_mapping = {label:idx for idx,label in enumerate(np.unique([df['y']]))}\n",
    "df['y']=df['y'].map(y_mapping)\n",
    "\n",
    "## 处理'job','marital','contact','month','poutcome'\n",
    "df_sub_1 = pd.get_dummies(df[['job','marital','contact','month','poutcome']])"
   ]
  },
  {
   "cell_type": "markdown",
   "metadata": {},
   "source": [
    "##### 我们把完成了1）、2）部分的预处理的数据作为基础数据集，记为df_full1。"
   ]
  },
  {
   "cell_type": "code",
   "execution_count": 11,
   "metadata": {
    "collapsed": true
   },
   "outputs": [],
   "source": [
    "df_sub_2 = df[['age','education', 'default', 'balance', 'housing',\n",
    "       'loan', 'day', 'duration', 'campaign', 'pdays',\n",
    "       'previous','y']]\n",
    "df_full1 = pd.concat([df_sub_1,df_sub_2],axis=1)"
   ]
  },
  {
   "cell_type": "code",
   "execution_count": 12,
   "metadata": {},
   "outputs": [
    {
     "name": "stdout",
     "output_type": "stream",
     "text": [
      "(4521, 45)\n"
     ]
    },
    {
     "data": {
      "text/html": [
       "<div>\n",
       "<style>\n",
       "    .dataframe thead tr:only-child th {\n",
       "        text-align: right;\n",
       "    }\n",
       "\n",
       "    .dataframe thead th {\n",
       "        text-align: left;\n",
       "    }\n",
       "\n",
       "    .dataframe tbody tr th {\n",
       "        vertical-align: top;\n",
       "    }\n",
       "</style>\n",
       "<table border=\"1\" class=\"dataframe\">\n",
       "  <thead>\n",
       "    <tr style=\"text-align: right;\">\n",
       "      <th></th>\n",
       "      <th>job_admin.</th>\n",
       "      <th>job_blue-collar</th>\n",
       "      <th>job_entrepreneur</th>\n",
       "      <th>job_housemaid</th>\n",
       "      <th>job_management</th>\n",
       "      <th>job_retired</th>\n",
       "      <th>job_self-employed</th>\n",
       "      <th>job_services</th>\n",
       "      <th>job_student</th>\n",
       "      <th>job_technician</th>\n",
       "      <th>...</th>\n",
       "      <th>default</th>\n",
       "      <th>balance</th>\n",
       "      <th>housing</th>\n",
       "      <th>loan</th>\n",
       "      <th>day</th>\n",
       "      <th>duration</th>\n",
       "      <th>campaign</th>\n",
       "      <th>pdays</th>\n",
       "      <th>previous</th>\n",
       "      <th>y</th>\n",
       "    </tr>\n",
       "  </thead>\n",
       "  <tbody>\n",
       "    <tr>\n",
       "      <th>0</th>\n",
       "      <td>0</td>\n",
       "      <td>0</td>\n",
       "      <td>0</td>\n",
       "      <td>0</td>\n",
       "      <td>0</td>\n",
       "      <td>0</td>\n",
       "      <td>0</td>\n",
       "      <td>0</td>\n",
       "      <td>0</td>\n",
       "      <td>0</td>\n",
       "      <td>...</td>\n",
       "      <td>0</td>\n",
       "      <td>1787</td>\n",
       "      <td>0</td>\n",
       "      <td>0</td>\n",
       "      <td>19</td>\n",
       "      <td>79</td>\n",
       "      <td>1</td>\n",
       "      <td>-1</td>\n",
       "      <td>0</td>\n",
       "      <td>0</td>\n",
       "    </tr>\n",
       "    <tr>\n",
       "      <th>1</th>\n",
       "      <td>0</td>\n",
       "      <td>0</td>\n",
       "      <td>0</td>\n",
       "      <td>0</td>\n",
       "      <td>0</td>\n",
       "      <td>0</td>\n",
       "      <td>0</td>\n",
       "      <td>1</td>\n",
       "      <td>0</td>\n",
       "      <td>0</td>\n",
       "      <td>...</td>\n",
       "      <td>0</td>\n",
       "      <td>4789</td>\n",
       "      <td>1</td>\n",
       "      <td>1</td>\n",
       "      <td>11</td>\n",
       "      <td>220</td>\n",
       "      <td>1</td>\n",
       "      <td>339</td>\n",
       "      <td>4</td>\n",
       "      <td>0</td>\n",
       "    </tr>\n",
       "    <tr>\n",
       "      <th>2</th>\n",
       "      <td>0</td>\n",
       "      <td>0</td>\n",
       "      <td>0</td>\n",
       "      <td>0</td>\n",
       "      <td>1</td>\n",
       "      <td>0</td>\n",
       "      <td>0</td>\n",
       "      <td>0</td>\n",
       "      <td>0</td>\n",
       "      <td>0</td>\n",
       "      <td>...</td>\n",
       "      <td>0</td>\n",
       "      <td>1350</td>\n",
       "      <td>1</td>\n",
       "      <td>0</td>\n",
       "      <td>16</td>\n",
       "      <td>185</td>\n",
       "      <td>1</td>\n",
       "      <td>330</td>\n",
       "      <td>1</td>\n",
       "      <td>0</td>\n",
       "    </tr>\n",
       "    <tr>\n",
       "      <th>3</th>\n",
       "      <td>0</td>\n",
       "      <td>0</td>\n",
       "      <td>0</td>\n",
       "      <td>0</td>\n",
       "      <td>1</td>\n",
       "      <td>0</td>\n",
       "      <td>0</td>\n",
       "      <td>0</td>\n",
       "      <td>0</td>\n",
       "      <td>0</td>\n",
       "      <td>...</td>\n",
       "      <td>0</td>\n",
       "      <td>1476</td>\n",
       "      <td>1</td>\n",
       "      <td>1</td>\n",
       "      <td>3</td>\n",
       "      <td>199</td>\n",
       "      <td>4</td>\n",
       "      <td>-1</td>\n",
       "      <td>0</td>\n",
       "      <td>0</td>\n",
       "    </tr>\n",
       "    <tr>\n",
       "      <th>4</th>\n",
       "      <td>0</td>\n",
       "      <td>1</td>\n",
       "      <td>0</td>\n",
       "      <td>0</td>\n",
       "      <td>0</td>\n",
       "      <td>0</td>\n",
       "      <td>0</td>\n",
       "      <td>0</td>\n",
       "      <td>0</td>\n",
       "      <td>0</td>\n",
       "      <td>...</td>\n",
       "      <td>0</td>\n",
       "      <td>0</td>\n",
       "      <td>1</td>\n",
       "      <td>0</td>\n",
       "      <td>5</td>\n",
       "      <td>226</td>\n",
       "      <td>1</td>\n",
       "      <td>-1</td>\n",
       "      <td>0</td>\n",
       "      <td>0</td>\n",
       "    </tr>\n",
       "  </tbody>\n",
       "</table>\n",
       "<p>5 rows × 45 columns</p>\n",
       "</div>"
      ],
      "text/plain": [
       "   job_admin.  job_blue-collar  job_entrepreneur  job_housemaid  \\\n",
       "0           0                0                 0              0   \n",
       "1           0                0                 0              0   \n",
       "2           0                0                 0              0   \n",
       "3           0                0                 0              0   \n",
       "4           0                1                 0              0   \n",
       "\n",
       "   job_management  job_retired  job_self-employed  job_services  job_student  \\\n",
       "0               0            0                  0             0            0   \n",
       "1               0            0                  0             1            0   \n",
       "2               1            0                  0             0            0   \n",
       "3               1            0                  0             0            0   \n",
       "4               0            0                  0             0            0   \n",
       "\n",
       "   job_technician ...  default  balance  housing  loan  day  duration  \\\n",
       "0               0 ...        0     1787        0     0   19        79   \n",
       "1               0 ...        0     4789        1     1   11       220   \n",
       "2               0 ...        0     1350        1     0   16       185   \n",
       "3               0 ...        0     1476        1     1    3       199   \n",
       "4               0 ...        0        0        1     0    5       226   \n",
       "\n",
       "   campaign  pdays  previous  y  \n",
       "0         1     -1         0  0  \n",
       "1         1    339         4  0  \n",
       "2         1    330         1  0  \n",
       "3         4     -1         0  0  \n",
       "4         1     -1         0  0  \n",
       "\n",
       "[5 rows x 45 columns]"
      ]
     },
     "execution_count": 12,
     "metadata": {},
     "output_type": "execute_result"
    }
   ],
   "source": [
    "print(df_full1.shape)\n",
    "df_full1.head(5)"
   ]
  },
  {
   "cell_type": "markdown",
   "metadata": {},
   "source": [
    "### 3) 其他预处理"
   ]
  },
  {
   "cell_type": "markdown",
   "metadata": {},
   "source": [
    "前面提到'campaign'这个变量，即'该次营销活动期间和客户联系的次数',若取值为999，则代表该客户以前没有联系过，但我们选取的数据集中不存在这样的样本，所以对于这个变量不做额外处理。"
   ]
  },
  {
   "cell_type": "code",
   "execution_count": 13,
   "metadata": {},
   "outputs": [
    {
     "data": {
      "text/plain": [
       "array([ 1,  4,  2,  5,  3,  6, 18, 10,  9,  7, 12, 14, 13, 24, 11,  8, 29,\n",
       "       32, 16, 22, 15, 30, 25, 21, 17, 19, 23, 20, 50, 28, 31, 44])"
      ]
     },
     "execution_count": 13,
     "metadata": {},
     "output_type": "execute_result"
    }
   ],
   "source": [
    "df.campaign.unique()"
   ]
  },
  {
   "cell_type": "markdown",
   "metadata": {},
   "source": [
    "'年龄'变量分布19-87岁之间，我们考虑将其离散化，分别划分成19-30，30-55以及 >55三个年龄段，并编码为1，2，3."
   ]
  },
  {
   "cell_type": "code",
   "execution_count": 14,
   "metadata": {},
   "outputs": [
    {
     "name": "stdout",
     "output_type": "stream",
     "text": [
      "MAX=19 ; MIN=87\n"
     ]
    }
   ],
   "source": [
    "df = pd.read_csv('bank.csv',sep=\";\")\n",
    "print(\"MAX={} ; MIN={}\".format(df.age.min(),df.age.max()))\n",
    "for i in range(len(df.age)):\n",
    "    if (df['age'][i] < 30):\n",
    "        df['age'][i] = 1\n",
    "    elif (df['age'][i] < 55):\n",
    "        df['age'][i] = 2\n",
    "    else:\n",
    "        df['age'][i] = 3"
   ]
  },
  {
   "cell_type": "code",
   "execution_count": 15,
   "metadata": {
    "collapsed": true
   },
   "outputs": [],
   "source": [
    "df.job[df.job == \"unknown\"] = \"management\"\n",
    "df.education[df.education == \"unknown\"] = \"secondary\"\n",
    "education_mapping = {\n",
    "    'primary':1,\n",
    "    'secondary':2,\n",
    "    'tertiary':3\n",
    "}\n",
    "df['education']=df['education'].map(education_mapping)\n",
    "default_mapping = {label:idx for idx,label in enumerate(np.unique([df['default']]))}\n",
    "df['default']=df['default'].map(default_mapping)\n",
    "housing_mapping = {label:idx for idx,label in enumerate(np.unique([df['housing']]))}\n",
    "df['housing']=df['housing'].map(housing_mapping)\n",
    "loan_mapping = {label:idx for idx,label in enumerate(np.unique([df['loan']]))}\n",
    "df['loan']=df['loan'].map(loan_mapping)\n",
    "y_mapping = {label:idx for idx,label in enumerate(np.unique([df['y']]))}\n",
    "df['y']=df['y'].map(y_mapping)\n",
    "df1 = pd.get_dummies(df[['job','marital','contact','month','poutcome']])\n",
    "df2 = df[['age','education', 'default', 'balance', 'housing',\n",
    "       'loan', 'day', 'duration', 'campaign', 'pdays',\n",
    "       'previous','y']]\n",
    "df_full2 = pd.concat([df1,df2],axis=1)"
   ]
  },
  {
   "cell_type": "markdown",
   "metadata": {},
   "source": [
    "##### 在之前1）、2）部分的预处理的基础上，我们将年龄离散化，数据集记为df_full2。"
   ]
  },
  {
   "cell_type": "markdown",
   "metadata": {},
   "source": [
    "## 3.模型训练与评估"
   ]
  },
  {
   "cell_type": "markdown",
   "metadata": {},
   "source": [
    "### a）评估指标的选择"
   ]
  },
  {
   "cell_type": "markdown",
   "metadata": {},
   "source": [
    "在训练模型之前，我们先选定评估指标，以进行更好的训练。我们备选的评价指标有准确率、精确率、召回率、F1、ROC/AUC、PRC等。"
   ]
  },
  {
   "cell_type": "markdown",
   "metadata": {},
   "source": [
    "我们通过下图检查要预测的变量'客户是否订阅定期存款'的分布情况，发现数据存在样本不平衡问题，样本中y为'是'与'否'的比例大约为1：8。通过查阅资料得知，面对样本标签不平衡的问题，更能合理评估模型的指标有F1、G-mean以及ROC/AUC。所以在模型的选择上，我们主要参考F1和AUC。"
   ]
  },
  {
   "cell_type": "code",
   "execution_count": 16,
   "metadata": {},
   "outputs": [
    {
     "name": "stdout",
     "output_type": "stream",
     "text": [
      "0    4000\n",
      "1     521\n",
      "Name: y, dtype: int64\n"
     ]
    },
    {
     "data": {
      "text/plain": [
       "<matplotlib.axes._subplots.AxesSubplot at 0x11b59d710>"
      ]
     },
     "execution_count": 16,
     "metadata": {},
     "output_type": "execute_result"
    },
    {
     "data": {
      "image/png": "[encoded data removed]",
      "text/plain": [
       "<matplotlib.figure.Figure at 0x10ff059b0>"
      ]
     },
     "metadata": {},
     "output_type": "display_data"
    }
   ],
   "source": [
    "print(df.y.value_counts())\n",
    "sns.countplot(df.y)"
   ]
  },
  {
   "cell_type": "markdown",
   "metadata": {},
   "source": [
    "### b）调参"
   ]
  },
  {
   "cell_type": "markdown",
   "metadata": {},
   "source": [
    "我们将处理好的数据分为训练数据和测试数据(比例为训练数据0.8，测试数据0.2)，并通过调节或参考经验确定参数'n_estimators'，'criterion'，'max_depth'，\n",
    "'max_features'\n",
    "'min_samples_leaf'， 'min_samples_split'，'min_weight_fraction_leaf'。调参过程基于基本数据集df_full1。整个训练过程将random_state设为0。"
   ]
  },
  {
   "cell_type": "markdown",
   "metadata": {},
   "source": [
    "#### min_samples_split，min_samples_leaf，max_features"
   ]
  },
  {
   "cell_type": "code",
   "execution_count": 453,
   "metadata": {},
   "outputs": [
    {
     "name": "stdout",
     "output_type": "stream",
     "text": [
      "(4521, 45)\n"
     ]
    }
   ],
   "source": [
    "print(df_full1.shape)"
   ]
  },
  {
   "cell_type": "markdown",
   "metadata": {},
   "source": [
    "'min_samples_split'：本数据集的大小为4521*45，样本量不算大，通过查阅资料，我们了解到这个参数在样本量不大的时候，无需调整，故取默认值为2。"
   ]
  },
  {
   "cell_type": "markdown",
   "metadata": {},
   "source": [
    "'min_samples_leaf'：这个参数在样本量不大的时候，无需调整，故取默认值为1。"
   ]
  },
  {
   "cell_type": "markdown",
   "metadata": {},
   "source": [
    "'max_features'：在样本特征小于50时，也无需调整，故也用默认的\"None\"。"
   ]
  },
  {
   "cell_type": "markdown",
   "metadata": {},
   "source": [
    "#### n_estimators"
   ]
  },
  {
   "cell_type": "markdown",
   "metadata": {},
   "source": [
    "通过查阅资料，我们了解到子模型数'n_estimators'这个参数对模型性能的影响是基本单调的，在一定区间内，随着n_estimators的增加，模型性能提高，但只是在特定区间内。所以我们首先单独对这一参数进行调整，范围参考以10为步长，从1至201的取值。进行调参时，评判使用的标准scoring采取auc。"
   ]
  },
  {
   "cell_type": "code",
   "execution_count": 17,
   "metadata": {},
   "outputs": [
    {
     "data": {
      "text/plain": [
       "{'n_estimators': 171}"
      ]
     },
     "execution_count": 17,
     "metadata": {},
     "output_type": "execute_result"
    }
   ],
   "source": [
    "X = df_full1.iloc[:,list(range(0,(df_full1.shape[1]-1)))]\n",
    "y = df_full1[\"y\"]\n",
    "X_train, X_test, y_train, y_test = train_test_split(X, y, test_size=0.2, random_state=0) \n",
    "parameters = [{'n_estimators':list(range(1,201,10))}]\n",
    "clf = grid_search.GridSearchCV(RandomForestClassifier(random_state=0), parameters,\n",
    "                               scoring ='roc_auc' ,\n",
    "                               cv = 5)\n",
    "clf.fit(X_train,y_train)\n",
    "## 模型参数n_estimators的最优取值\n",
    "clf.best_params_"
   ]
  },
  {
   "cell_type": "markdown",
   "metadata": {},
   "source": [
    "#### criterion，max_depth，min_weight_fraction_leaf"
   ]
  },
  {
   "cell_type": "markdown",
   "metadata": {},
   "source": [
    "接着，对于其他参数'criterion'，'max_depth'，'min_weight_fraction_leaf'，使用网格搜索进行粗调。'criterion'在'entropy','gini'中选择，'max_depth'参考经验取值，以10为步长，取从10至100,'min_weight_fraction_leaf'参考经验取值，以0.1位步长，取从0.0至0.5。"
   ]
  },
  {
   "cell_type": "code",
   "execution_count": 18,
   "metadata": {},
   "outputs": [
    {
     "data": {
      "text/plain": [
       "{'criterion': 'entropy', 'max_depth': 30, 'min_weight_fraction_leaf': 0.0}"
      ]
     },
     "execution_count": 18,
     "metadata": {},
     "output_type": "execute_result"
    }
   ],
   "source": [
    "parameters = [{'criterion':['entropy','gini'],\n",
    "      'max_depth':list(range(10,100,10)),\n",
    "      'min_weight_fraction_leaf':[0.0,0.1,0.2,0.3,0.4,0.5]\n",
    "     }]\n",
    "clf = grid_search.GridSearchCV(RandomForestClassifier(random_state=0,n_estimators=171), parameters,\n",
    "                               scoring ='roc_auc' ,\n",
    "                               cv=5)\n",
    "clf.fit(X_train,y_train)\n",
    "## 以下是我们得到的模型参数criterion，max_depth，min_weight_fraction_leaf的最优取值\n",
    "clf.best_params_"
   ]
  },
  {
   "cell_type": "markdown",
   "metadata": {},
   "source": [
    "在确定了criterion，max_depth，min_weight_fraction_leaf的最优取值后，我们基于这些，再次调节n_estimators。"
   ]
  },
  {
   "cell_type": "code",
   "execution_count": 19,
   "metadata": {},
   "outputs": [
    {
     "data": {
      "text/plain": [
       "{'n_estimators': 191}"
      ]
     },
     "execution_count": 19,
     "metadata": {},
     "output_type": "execute_result"
    }
   ],
   "source": [
    "## 再次调节n_estimators\n",
    "\n",
    "parameters = [{'n_estimators':list(range(1,201,10))}]\n",
    "clf = grid_search.GridSearchCV(RandomForestClassifier(random_state=0,criterion='entropy', max_depth=30, min_weight_fraction_leaf=0.0), \n",
    "                               parameters,\n",
    "                               scoring ='roc_auc' ,\n",
    "                               cv = 5)\n",
    "clf.fit(X_train,y_train)\n",
    "## 模型参数n_estimators的最优取值\n",
    "clf.best_params_"
   ]
  },
  {
   "cell_type": "markdown",
   "metadata": {},
   "source": [
    "### 1）基本模型"
   ]
  },
  {
   "cell_type": "markdown",
   "metadata": {},
   "source": [
    "我们可以用上述最优参数重新训练模型，并通过准确率、精确率、召回率、F1、AUC等指标在测试集上评估模型的表现。以下以完成了1）、2）部分的预处理的基础数据集'df_full1'为例，评估其表现。"
   ]
  },
  {
   "cell_type": "code",
   "execution_count": 21,
   "metadata": {},
   "outputs": [
    {
     "name": "stdout",
     "output_type": "stream",
     "text": [
      "df_full1's evaluation:\n",
      "Accuracy=0.8895\n",
      "             precision    recall  f1-score   support\n",
      "\n",
      "          0       0.90      0.98      0.94       793\n",
      "          1       0.64      0.24      0.35       112\n",
      "\n",
      "avg / total       0.87      0.89      0.87       905\n",
      "\n",
      "AUC - ROC : 0.6111\n"
     ]
    },
    {
     "data": {
      "image/png": "[encoded data removed]",
      "text/plain": [
       "<matplotlib.figure.Figure at 0x11f7945c0>"
      ]
     },
     "metadata": {},
     "output_type": "display_data"
    }
   ],
   "source": [
    "clf = RandomForestClassifier(random_state=0,n_estimators=191, criterion='entropy', max_depth=30, min_weight_fraction_leaf=0.0) \n",
    "clf.fit(X_train,y_train)\n",
    "print(\"df_full1's evaluation:\")\n",
    "print(\"Accuracy={}\".format(round((clf.fit(X_train,y_train).score(X_test, y_test)),4)))\n",
    "print(classification_report(y_test, clf.predict(X_test)))\n",
    "print (\"AUC - ROC : {}\".format(round(roc_auc_score(y_test, clf.predict(X_test)),4)))\n",
    "cnf_matrix = confusion_matrix(y_test, clf.predict(X_test))\n",
    "fig, ax = plot_confusion_matrix(conf_mat=np.array(cnf_matrix))\n",
    "plt.show()"
   ]
  },
  {
   "cell_type": "markdown",
   "metadata": {},
   "source": [
    "我们将考虑的参数都调至最优取值，重新训练模型，得到f1=0.87，AUC=0.6111的结果。"
   ]
  },
  {
   "cell_type": "markdown",
   "metadata": {},
   "source": [
    "### 2）尝试1： 将年龄离散化（表现稍提升）"
   ]
  },
  {
   "cell_type": "markdown",
   "metadata": {},
   "source": [
    "使用将年龄分段的数据集'df_full2'，并直接使用以上调参的最优结果，我们发现模型的表现稍有提升。"
   ]
  },
  {
   "cell_type": "code",
   "execution_count": 22,
   "metadata": {},
   "outputs": [
    {
     "name": "stdout",
     "output_type": "stream",
     "text": [
      "Accuracy=0.8939\n",
      "             precision    recall  f1-score   support\n",
      "\n",
      "          0       0.90      0.98      0.94       793\n",
      "          1       0.69      0.26      0.38       112\n",
      "\n",
      "avg / total       0.88      0.89      0.87       905\n",
      "\n",
      "AUC - ROC : 0.6213\n"
     ]
    },
    {
     "data": {
      "image/png": "[encoded data removed]",
      "text/plain": [
       "<matplotlib.figure.Figure at 0x11fa9df98>"
      ]
     },
     "metadata": {},
     "output_type": "display_data"
    }
   ],
   "source": [
    "X = df_full2.iloc[:,list(range(0,(df_full2.shape[1]-1)))]\n",
    "y = df_full2[\"y\"]\n",
    "X_train, X_test, y_train, y_test = train_test_split(X, y, test_size=0.2, random_state=0)    \n",
    "clf = RandomForestClassifier(random_state=0,n_estimators=191, criterion='entropy', max_depth=30, min_weight_fraction_leaf=0.0)\n",
    "clf.fit(X_train,y_train)\n",
    "print(\"Accuracy={}\".format(round((clf.fit(X_train,y_train).score(X_test, y_test)),4)))\n",
    "print(classification_report(y_test, clf.predict(X_test)))\n",
    "print (\"AUC - ROC : {}\".format(round(roc_auc_score(y_test, clf.predict(X_test)),4)))\n",
    "cnf_matrix = confusion_matrix(y_test, clf.predict(X_test))\n",
    "fig, ax = plot_confusion_matrix(conf_mat=np.array(cnf_matrix))\n",
    "plt.show()"
   ]
  },
  {
   "cell_type": "markdown",
   "metadata": {},
   "source": [
    "我们基于新的数据集，重复上述调参步骤（经过多次调参，发现参数'min_weight_fraction_leaf'的最优始终保持0.0，故在此不对其作调整），再次评估模型表现，f1仍为0.87，AUC稍有提升为0.6225。"
   ]
  },
  {
   "cell_type": "code",
   "execution_count": 24,
   "metadata": {},
   "outputs": [
    {
     "name": "stdout",
     "output_type": "stream",
     "text": [
      "{'n_estimators': 171}\n",
      "{'criterion': 'entropy', 'max_depth': 20}\n"
     ]
    }
   ],
   "source": [
    "## 调 n_estimators\n",
    "parameters = [{'n_estimators':list(range(1,201,10))}]\n",
    "clf = grid_search.GridSearchCV(RandomForestClassifier(random_state=0), parameters,\n",
    "                               scoring ='roc_auc' ,\n",
    "                               cv=5)\n",
    "clf.fit(X_train,y_train)\n",
    "print(clf.best_params_)\n",
    "\n",
    "## 调 criterion，max_depth，min_weight_fraction_leaf\n",
    "parameters = [{'criterion':['entropy','gini'],\n",
    "      'max_depth':list(range(10,100,10))\n",
    "     }]\n",
    "clf = grid_search.GridSearchCV(RandomForestClassifier(random_state=0,n_estimators=clf.best_params_['n_estimators']), \n",
    "                               parameters,\n",
    "                               scoring ='roc_auc' ,\n",
    "                               cv=5)\n",
    "clf.fit(X_train,y_train)\n",
    "\n",
    "## 以下是我们得到的模型参数criterion，max_depth，min_weight_fraction_leaf的最优取值\n",
    "print(clf.best_params_)"
   ]
  },
  {
   "cell_type": "code",
   "execution_count": 25,
   "metadata": {},
   "outputs": [
    {
     "name": "stdout",
     "output_type": "stream",
     "text": [
      "{'n_estimators': 151}\n"
     ]
    }
   ],
   "source": [
    "## 基于criterion，max_depth，min_weight_fraction_leaf的最优取值，再次调节n_estimators\n",
    "\n",
    "parameters = [{'n_estimators':list(range(1,201,10))}]\n",
    "clf = grid_search.GridSearchCV(RandomForestClassifier(random_state=0,criterion='entropy', max_depth=20, min_weight_fraction_leaf=0.0), \n",
    "                               parameters,\n",
    "                               scoring ='roc_auc' ,\n",
    "                               cv = 5)\n",
    "clf.fit(X_train,y_train)\n",
    "## 模型参数n_estimators的最优取值\n",
    "print(clf.best_params_)"
   ]
  },
  {
   "cell_type": "code",
   "execution_count": 26,
   "metadata": {},
   "outputs": [
    {
     "name": "stdout",
     "output_type": "stream",
     "text": [
      "df_full2's evaluation:\n",
      "Accuracy=0.8961\n",
      "             precision    recall  f1-score   support\n",
      "\n",
      "          0       0.90      0.99      0.94       793\n",
      "          1       0.72      0.26      0.38       112\n",
      "\n",
      "avg / total       0.88      0.90      0.87       905\n",
      "\n",
      "AUC - ROC : 0.6225\n"
     ]
    },
    {
     "data": {
      "image/png": "[encoded data removed]",
      "text/plain": [
       "<matplotlib.figure.Figure at 0x11fafe710>"
      ]
     },
     "metadata": {},
     "output_type": "display_data"
    }
   ],
   "source": [
    "clf = RandomForestClassifier(random_state=0,n_estimators=151, criterion='entropy', max_depth=20, min_weight_fraction_leaf=0.0) \n",
    "clf.fit(X_train,y_train)\n",
    "print(\"df_full2's evaluation:\")\n",
    "print(\"Accuracy={}\".format(round((clf.fit(X_train,y_train).score(X_test, y_test)),4)))\n",
    "print(classification_report(y_test, clf.predict(X_test)))\n",
    "print (\"AUC - ROC : {}\".format(round(roc_auc_score(y_test, clf.predict(X_test)),4)))\n",
    "cnf_matrix = confusion_matrix(y_test, clf.predict(X_test))\n",
    "fig, ax = plot_confusion_matrix(conf_mat=np.array(cnf_matrix))\n",
    "plt.show()"
   ]
  },
  {
   "cell_type": "markdown",
   "metadata": {},
   "source": [
    "### 3）尝试2： 去掉一些不重要的特征（表现未提升）"
   ]
  },
  {
   "cell_type": "markdown",
   "metadata": {},
   "source": [
    "接下来，我们可以检查一下变量的重要性，并考虑下一步特征的改进。"
   ]
  },
  {
   "cell_type": "code",
   "execution_count": 27,
   "metadata": {},
   "outputs": [
    {
     "name": "stdout",
     "output_type": "stream",
     "text": [
      " 1 job_admin.                     0.282697\n",
      " 2 job_blue-collar                0.099044\n",
      " 3 job_entrepreneur               0.084025\n",
      " 4 job_housemaid                  0.044595\n",
      " 5 job_management                 0.041245\n",
      " 6 job_retired                    0.035272\n",
      " 7 job_self-employed              0.027517\n",
      " 8 job_services                   0.025244\n",
      " 9 job_student                    0.021238\n",
      "10 job_technician                 0.020731\n",
      "11 job_unemployed                 0.017095\n",
      "12 marital_divorced               0.015187\n",
      "13 marital_married                0.014746\n",
      "14 marital_single                 0.014670\n",
      "15 contact_cellular               0.013717\n",
      "16 contact_telephone              0.013396\n",
      "17 contact_unknown                0.012749\n",
      "18 month_apr                      0.012732\n",
      "19 month_aug                      0.012713\n",
      "20 month_dec                      0.012181\n",
      "21 month_feb                      0.012143\n",
      "22 month_jan                      0.012054\n",
      "23 month_jul                      0.011863\n",
      "24 month_jun                      0.011700\n",
      "25 month_mar                      0.011308\n",
      "26 month_may                      0.010812\n",
      "27 month_nov                      0.009952\n",
      "28 month_oct                      0.009863\n",
      "29 month_sep                      0.009245\n",
      "30 poutcome_failure               0.009240\n",
      "31 poutcome_other                 0.009049\n",
      "32 poutcome_success               0.007824\n",
      "33 poutcome_unknown               0.007034\n",
      "34 age                            0.006647\n",
      "35 education                      0.005315\n",
      "36 default                        0.004806\n",
      "37 balance                        0.004769\n",
      "38 housing                        0.004387\n",
      "39 loan                           0.004258\n",
      "40 day                            0.004237\n",
      "41 duration                       0.003974\n",
      "42 campaign                       0.003457\n",
      "43 pdays                          0.002810\n",
      "44 previous                       0.002457\n"
     ]
    }
   ],
   "source": [
    "label = X.columns[0:]\n",
    "importances = clf.feature_importances_\n",
    "indices = np.argsort(importances)[::-1]\n",
    "for f in range(X_train.shape[1]):\n",
    "    print(\"%2d %-*s %f\" % (f+1,30,label[f],importances[indices[f]]))"
   ]
  },
  {
   "cell_type": "code",
   "execution_count": 28,
   "metadata": {},
   "outputs": [
    {
     "data": {
      "image/png": "[encoded data removed]",
      "text/plain": [
       "<matplotlib.figure.Figure at 0x11f9ca7f0>"
      ]
     },
     "metadata": {},
     "output_type": "display_data"
    }
   ],
   "source": [
    "plt.title('Feature Importance')\n",
    "plt.bar(range(X_train.shape[1]),\n",
    "       importances[indices],\n",
    "       color = 'lightblue',\n",
    "       align = 'center')\n",
    "plt.xticks(range(X_train.shape[1]),\n",
    "          label,rotation = 80)\n",
    "plt.xlim([-1,X_train.shape[1]])\n",
    "plt.tight_layout()\n",
    "plt.show()"
   ]
  },
  {
   "cell_type": "markdown",
   "metadata": {},
   "source": [
    "通过观察变量的重要性，我们尝试把排在最后五名的特征'day','duration','campaign','pdays','previous'删除，但模型表现并没有变好。"
   ]
  },
  {
   "cell_type": "code",
   "execution_count": 29,
   "metadata": {
    "collapsed": true
   },
   "outputs": [],
   "source": [
    "df2 = df[['age','education', 'default', 'balance', 'housing',\n",
    "       'loan','y']]\n",
    "df_full_minus = pd.concat([df1,df2],axis=1)\n",
    "X = df_full_minus.iloc[:,list(range(0,(df_full_minus.shape[1]-1)))]\n",
    "y = df_full_minus[\"y\"]\n",
    "X_train, X_test, y_train, y_test = train_test_split(X, y, test_size=0.2, random_state=0)    "
   ]
  },
  {
   "cell_type": "code",
   "execution_count": 31,
   "metadata": {},
   "outputs": [
    {
     "name": "stdout",
     "output_type": "stream",
     "text": [
      "{'n_estimators': 91}\n",
      "{'criterion': 'gini', 'max_depth': 10, 'min_weight_fraction_leaf': 0.0}\n"
     ]
    }
   ],
   "source": [
    "### 调参\n",
    "\n",
    "## 调 n_estimators\n",
    "parameters = [{'n_estimators':list(range(1,201,10))}]\n",
    "clf = grid_search.GridSearchCV(RandomForestClassifier(random_state=0), parameters,scoring ='roc_auc',cv=5)\n",
    "clf.fit(X_train,y_train)\n",
    "print(clf.best_params_)\n",
    "## 调 criterion，max_depth，min_weight_fraction_leaf\n",
    "parameters = [{'criterion':['entropy','gini'],\n",
    "      'max_depth':list(range(10,100,10)),\n",
    "      'min_weight_fraction_leaf':[0.0,0.1,0.2,0.3,0.4,0.5]\n",
    "     }]\n",
    "clf = grid_search.GridSearchCV(RandomForestClassifier(random_state=0,n_estimators=clf.best_params_['n_estimators']), parameters,\n",
    "                              scoring ='roc_auc',cv=5)\n",
    "clf.fit(X_train,y_train)\n",
    "\n",
    "## 以下是我们得到的模型参数criterion，max_depth，min_weight_fraction_leaf的最优取值\n",
    "\n",
    "print(clf.best_params_)"
   ]
  },
  {
   "cell_type": "code",
   "execution_count": 32,
   "metadata": {},
   "outputs": [
    {
     "name": "stdout",
     "output_type": "stream",
     "text": [
      "{'n_estimators': 181}\n"
     ]
    }
   ],
   "source": [
    "## 基于criterion，max_depth，min_weight_fraction_leaf的最优取值，再次调节n_estimators\n",
    "\n",
    "parameters = [{'n_estimators':list(range(1,201,10))}]\n",
    "clf = grid_search.GridSearchCV(RandomForestClassifier(random_state=0,criterion='gini', max_depth=10, min_weight_fraction_leaf=0.0), \n",
    "                               parameters,\n",
    "                               scoring ='roc_auc' ,\n",
    "                               cv = 5)\n",
    "clf.fit(X_train,y_train)\n",
    "## 模型参数n_estimators的最优取值\n",
    "print(clf.best_params_)"
   ]
  },
  {
   "cell_type": "code",
   "execution_count": 36,
   "metadata": {},
   "outputs": [
    {
     "name": "stdout",
     "output_type": "stream",
     "text": [
      "df_full_minus's evaluation:\n",
      "Accuracy=0.8873\n",
      "             precision    recall  f1-score   support\n",
      "\n",
      "          0       0.89      1.00      0.94       793\n",
      "          1       0.86      0.11      0.19       112\n",
      "\n",
      "avg / total       0.88      0.89      0.85       905\n",
      "\n",
      "AUC - ROC : 0.5523\n"
     ]
    },
    {
     "data": {
      "image/png": "[encoded data removed]",
      "text/plain": [
       "<matplotlib.figure.Figure at 0x11f7fba58>"
      ]
     },
     "metadata": {},
     "output_type": "display_data"
    }
   ],
   "source": [
    "clf = RandomForestClassifier(random_state=0,n_estimators=181, criterion='gini', max_depth=10,min_weight_fraction_leaf=0.0) \n",
    "clf.fit(X_train,y_train)\n",
    "print(\"df_full_minus's evaluation:\")\n",
    "print(\"Accuracy={}\".format(round((clf.fit(X_train,y_train).score(X_test, y_test)),4)))\n",
    "print(classification_report(y_test, clf.predict(X_test)))\n",
    "print (\"AUC - ROC : {}\".format(round(roc_auc_score(y_test, clf.predict(X_test)),4)))\n",
    "cnf_matrix = confusion_matrix(y_test, clf.predict(X_test))\n",
    "fig, ax = plot_confusion_matrix(conf_mat=np.array(cnf_matrix))\n",
    "plt.show()"
   ]
  },
  {
   "cell_type": "markdown",
   "metadata": {},
   "source": [
    "### 4）尝试3：将部分数值变量离散化（表现略提升）"
   ]
  },
  {
   "cell_type": "markdown",
   "metadata": {},
   "source": [
    "删除低重要性变量不可行，我们接着考虑其他处理方法，结合前面将年龄离散化得到了比较好的效果，我们尝试将'balance','duration'这类代表金额或时长的低重要性的数值变量进行等距或等频率离散化。将'day'（一个月中的几号）这个变量进行等距的离散化，即划分为月初，月中，月末，编码为1，2，3."
   ]
  },
  {
   "cell_type": "code",
   "execution_count": 37,
   "metadata": {},
   "outputs": [
    {
     "name": "stdout",
     "output_type": "stream",
     "text": [
      "equal binwidth:\n",
      "(-829.633, 1653.733]      3455\n",
      "(1653.733, 4137.1]         624\n",
      "(4137.1, 6620.467]         205\n",
      "(6620.467, 9103.833]        94\n",
      "(9103.833, 11587.2]         41\n",
      "(-3387.501, -829.633]       32\n",
      "(11587.2, 14070.567]        23\n",
      "(14070.567, 16553.933]      17\n",
      "(16553.933, 19037.3]         7\n",
      "(21520.667, 24004.033]       7\n",
      "(19037.3, 21520.667]         6\n",
      "(26487.4, 28970.767]         4\n",
      "(24004.033, 26487.4]         4\n",
      "(68704.633, 71188.0]         1\n",
      "(41387.6, 43870.967]         1\n",
      "(33937.5, 36420.867]         0\n",
      "(66221.267, 68704.633]       0\n",
      "(28970.767, 31454.133]       0\n",
      "(36420.867, 38904.233]       0\n",
      "(38904.233, 41387.6]         0\n",
      "(43870.967, 46354.333]       0\n",
      "(46354.333, 48837.7]         0\n",
      "(48837.7, 51321.067]         0\n",
      "(51321.067, 53804.433]       0\n",
      "(53804.433, 56287.8]         0\n",
      "(56287.8, 58771.167]         0\n",
      "(58771.167, 61254.533]       0\n",
      "(61254.533, 63737.9]         0\n",
      "(63737.9, 66221.267]         0\n",
      "(31454.133, 33937.5]         0\n",
      "Name: balance2, dtype: int64\n",
      "\n",
      "equal frequency:\n"
     ]
    },
    {
     "data": {
      "text/plain": [
       "1     421\n",
       "4     306\n",
       "8     304\n",
       "11    302\n",
       "14    302\n",
       "0     302\n",
       "10    301\n",
       "6     301\n",
       "13    301\n",
       "12    301\n",
       "5     300\n",
       "9     299\n",
       "7     298\n",
       "3     293\n",
       "2     190\n",
       "Name: balance3, dtype: int64"
      ]
     },
     "execution_count": 37,
     "metadata": {},
     "output_type": "execute_result"
    }
   ],
   "source": [
    "## 处理'balance'\n",
    "df['balance2'] = pd.cut(df.balance, bins=30)\n",
    "print(\"equal binwidth:\")\n",
    "print(df.balance2.value_counts())\n",
    "df['balance3'] = pd.qcut(df.balance, q=15, labels=False)\n",
    "print(\"\\nequal frequency:\")\n",
    "pd.value_counts(df.balance3)"
   ]
  },
  {
   "cell_type": "markdown",
   "metadata": {},
   "source": [
    "通过等距离散化，我们发现'balance'这个变量是严重右偏的，所以我们考虑等频率离散化，以保证各组相对平衡。对于'duration'也作同理处理。"
   ]
  },
  {
   "cell_type": "code",
   "execution_count": 38,
   "metadata": {},
   "outputs": [
    {
     "name": "stdout",
     "output_type": "stream",
     "text": [
      "equal binwidth:\n",
      "(0.979, 155.05]      1899\n",
      "(155.05, 306.1]      1386\n",
      "(306.1, 457.15]       557\n",
      "(457.15, 608.2]       268\n",
      "(608.2, 759.25]       181\n",
      "(759.25, 910.3]        86\n",
      "(910.3, 1061.35]       59\n",
      "(1061.35, 1212.4]      32\n",
      "(1363.45, 1514.5]      16\n",
      "(1212.4, 1363.45]      13\n",
      "(1514.5, 1665.55]      10\n",
      "(1665.55, 1816.6]       6\n",
      "(1967.65, 2118.7]       4\n",
      "(2722.9, 2873.95]       1\n",
      "(1816.6, 1967.65]       1\n",
      "(2420.8, 2571.85]       1\n",
      "(2873.95, 3025.0]       1\n",
      "(2118.7, 2269.75]       0\n",
      "(2269.75, 2420.8]       0\n",
      "(2571.85, 2722.9]       0\n",
      "Name: duration2, dtype: int64\n",
      "\n",
      "equal frequency:\n"
     ]
    },
    {
     "data": {
      "text/plain": [
       "0     309\n",
       "6     308\n",
       "1     305\n",
       "3     304\n",
       "11    303\n",
       "2     303\n",
       "14    302\n",
       "10    302\n",
       "12    302\n",
       "8     300\n",
       "4     300\n",
       "9     299\n",
       "13    298\n",
       "5     296\n",
       "7     290\n",
       "Name: duration3, dtype: int64"
      ]
     },
     "execution_count": 38,
     "metadata": {},
     "output_type": "execute_result"
    }
   ],
   "source": [
    "## 处理'duration'\n",
    "df['duration2'] = pd.cut(df.duration, bins=20)\n",
    "print(\"equal binwidth:\")\n",
    "print(df.duration2.value_counts())\n",
    "df['duration3'] = pd.qcut(df.duration, q=15, labels=False)\n",
    "print(\"\\nequal frequency:\")\n",
    "pd.value_counts(df.duration3)"
   ]
  },
  {
   "cell_type": "code",
   "execution_count": 39,
   "metadata": {},
   "outputs": [
    {
     "name": "stdout",
     "output_type": "stream",
     "text": [
      "(11.0, 21.0]    1923\n",
      "(0.97, 11.0]    1488\n",
      "(21.0, 31.0]    1110\n",
      "Name: day2, dtype: int64\n"
     ]
    }
   ],
   "source": [
    "df['day2'] = pd.cut(df.day, bins=3)\n",
    "print(df.day2.value_counts())\n",
    "labels_age2, levels_age2 = pd.factorize(df.day2)\n",
    "df['day2'] = labels_age2"
   ]
  },
  {
   "cell_type": "markdown",
   "metadata": {},
   "source": [
    "##### 在之前1）、2）部分的预处理和年龄离散化的基础上，我们将'balance','duration','day'离散化，数据集记为df_full3。"
   ]
  },
  {
   "cell_type": "code",
   "execution_count": 40,
   "metadata": {
    "collapsed": true
   },
   "outputs": [],
   "source": [
    "df2 = df[['age','education', 'default', 'balance3', 'housing',\n",
    "       'loan', 'day2', 'duration3', 'campaign', 'pdays',\n",
    "       'previous','y']]\n",
    "df_full3 = pd.concat([df1,df2],axis=1)\n",
    "X = df_full3.iloc[:,list(range(0,(df_full3.shape[1]-1)))]\n",
    "y = df_full3[\"y\"]\n",
    "X_train, X_test, y_train, y_test = train_test_split(X, y, test_size=0.2, random_state=0)    "
   ]
  },
  {
   "cell_type": "code",
   "execution_count": 41,
   "metadata": {},
   "outputs": [
    {
     "name": "stdout",
     "output_type": "stream",
     "text": [
      "{'n_estimators': 141}\n",
      "{'criterion': 'entropy', 'max_depth': 20, 'min_weight_fraction_leaf': 0.0}\n"
     ]
    }
   ],
   "source": [
    "### 调参\n",
    "\n",
    "## 调 n_estimators\n",
    "parameters = [{'n_estimators':list(range(1,201,10))}]\n",
    "clf = grid_search.GridSearchCV(RandomForestClassifier(random_state=0), parameters,scoring ='roc_auc',cv=5)\n",
    "clf.fit(X_train,y_train)\n",
    "print(clf.best_params_)\n",
    "## 调 criterion，max_depth，min_weight_fraction_leaf\n",
    "parameters = [{'criterion':['entropy','gini'],\n",
    "      'max_depth':list(range(10,100,10)),\n",
    "      'min_weight_fraction_leaf':[0.0,0.1,0.2,0.3,0.4,0.5]\n",
    "     }]\n",
    "clf = grid_search.GridSearchCV(RandomForestClassifier(random_state=0,n_estimators=clf.best_params_['n_estimators']), parameters,\n",
    "                              scoring ='roc_auc',cv=5)\n",
    "clf.fit(X_train,y_train)\n",
    "\n",
    "## 以下是我们得到的模型参数criterion，max_depth，min_weight_fraction_leaf的最优取值\n",
    "\n",
    "print(clf.best_params_)"
   ]
  },
  {
   "cell_type": "code",
   "execution_count": 43,
   "metadata": {},
   "outputs": [
    {
     "name": "stdout",
     "output_type": "stream",
     "text": [
      "{'n_estimators': 111}\n"
     ]
    }
   ],
   "source": [
    "## 基于criterion，max_depth，min_weight_fraction_leaf的最优取值，再次调节n_estimators\n",
    "\n",
    "parameters = [{'n_estimators':list(range(1,201,10))}]\n",
    "clf = grid_search.GridSearchCV(RandomForestClassifier(random_state=0,criterion='entropy', max_depth=20, min_weight_fraction_leaf=0.0), \n",
    "                               parameters,\n",
    "                               scoring ='roc_auc' ,\n",
    "                               cv = 5)\n",
    "clf.fit(X_train,y_train)\n",
    "## 模型参数n_estimators的最优取值\n",
    "print(clf.best_params_)"
   ]
  },
  {
   "cell_type": "code",
   "execution_count": 44,
   "metadata": {},
   "outputs": [
    {
     "name": "stdout",
     "output_type": "stream",
     "text": [
      "Accuracy=0.8917\n",
      "             precision    recall  f1-score   support\n",
      "\n",
      "          0       0.91      0.98      0.94       793\n",
      "          1       0.64      0.29      0.40       112\n",
      "\n",
      "avg / total       0.87      0.89      0.87       905\n",
      "\n",
      "AUC - ROC : 0.6315\n"
     ]
    },
    {
     "data": {
      "image/png": "[encoded data removed]",
      "text/plain": [
       "<matplotlib.figure.Figure at 0x11fd485c0>"
      ]
     },
     "metadata": {},
     "output_type": "display_data"
    }
   ],
   "source": [
    "clf = RandomForestClassifier(random_state=0,n_estimators=111, criterion='entropy', max_depth=20, min_weight_fraction_leaf=0.0) \n",
    "clf.fit(X_train,y_train)\n",
    "print(\"Accuracy={}\".format(round((clf.fit(X_train,y_train).score(X_test, y_test)),4)))\n",
    "print(classification_report(y_test, clf.predict(X_test)))\n",
    "print (\"AUC - ROC : {}\".format(round(roc_auc_score(y_test, clf.predict(X_test)),4)))\n",
    "cnf_matrix = confusion_matrix(y_test, clf.predict(X_test))\n",
    "fig, ax = plot_confusion_matrix(conf_mat=np.array(cnf_matrix))\n",
    "plt.show()"
   ]
  },
  {
   "cell_type": "markdown",
   "metadata": {},
   "source": [
    "从上表可以看出，这些变量'balance','duration','day'的离散化，f1仍然为0.87，AUC提升到0.6238。"
   ]
  },
  {
   "cell_type": "markdown",
   "metadata": {},
   "source": [
    "### 5）尝试4：将部分数值变量标准化（表现提升）"
   ]
  },
  {
   "cell_type": "markdown",
   "metadata": {},
   "source": [
    "我们把在现有数据的基础上，我们可以考虑对'balance','duration','day'进行标准化。"
   ]
  },
  {
   "cell_type": "code",
   "execution_count": 46,
   "metadata": {
    "collapsed": true
   },
   "outputs": [],
   "source": [
    "df['balance2'] = StandardScaler().fit_transform(df.balance.reshape(-1,1))\n",
    "df['duration2'] = StandardScaler().fit_transform(df.duration.reshape(-1,1))\n",
    "df['day2'] = StandardScaler().fit_transform(df.day.reshape(-1,1))\n",
    "df2 = df[['age','education', 'default', 'balance2', 'housing',\n",
    "       'loan', 'day2', 'duration2', 'campaign', 'pdays',\n",
    "       'previous','y']]\n",
    "df_full4 = pd.concat([df1,df2],axis=1)"
   ]
  },
  {
   "cell_type": "markdown",
   "metadata": {},
   "source": [
    "##### 在之前1）、2）部分的预处理和年龄离散化的基础上，我们将'balance','duration','day'标准化，数据集记为df_full4。"
   ]
  },
  {
   "cell_type": "code",
   "execution_count": 47,
   "metadata": {
    "collapsed": true
   },
   "outputs": [],
   "source": [
    "X = df_full4.iloc[:,list(range(0,(df_full4.shape[1]-1)))]\n",
    "y = df_full4[\"y\"]\n",
    "X_train, X_test, y_train, y_test = train_test_split(X, y, test_size=0.2, random_state=0)    "
   ]
  },
  {
   "cell_type": "code",
   "execution_count": 48,
   "metadata": {},
   "outputs": [
    {
     "name": "stdout",
     "output_type": "stream",
     "text": [
      "{'n_estimators': 171}\n",
      "{'criterion': 'entropy', 'max_depth': 20}\n"
     ]
    }
   ],
   "source": [
    "### 调参\n",
    "\n",
    "## 调 n_estimators\n",
    "parameters = [{'n_estimators':list(range(1,201,10))}]\n",
    "clf = grid_search.GridSearchCV(RandomForestClassifier(random_state=0), parameters,scoring ='roc_auc',cv=5)\n",
    "clf.fit(X_train,y_train)\n",
    "print(clf.best_params_)\n",
    "## 调 criterion，max_depth，min_weight_fraction_leaf\n",
    "parameters = [{'criterion':['entropy','gini'],\n",
    "      'max_depth':list(range(10,100,10))\n",
    "     }]\n",
    "clf = grid_search.GridSearchCV(RandomForestClassifier(random_state=0,n_estimators=clf.best_params_['n_estimators']), parameters,\n",
    "                              scoring ='roc_auc',cv=5)\n",
    "clf.fit(X_train,y_train)\n",
    "\n",
    "## 以下是我们得到的模型参数criterion，max_depth，min_weight_fraction_leaf的最优取值\n",
    "\n",
    "print(clf.best_params_)"
   ]
  },
  {
   "cell_type": "code",
   "execution_count": 49,
   "metadata": {},
   "outputs": [
    {
     "name": "stdout",
     "output_type": "stream",
     "text": [
      "{'n_estimators': 151}\n"
     ]
    }
   ],
   "source": [
    "## 基于criterion，max_depth，min_weight_fraction_leaf的最优取值，再次调节n_estimators\n",
    "\n",
    "parameters = [{'n_estimators':list(range(1,201,10))}]\n",
    "clf = grid_search.GridSearchCV(RandomForestClassifier(random_state=0,criterion='entropy', max_depth=20, min_weight_fraction_leaf=0.0), \n",
    "                               parameters,\n",
    "                               scoring ='roc_auc' ,\n",
    "                               cv = 5)\n",
    "clf.fit(X_train,y_train)\n",
    "## 模型参数n_estimators的最优取值\n",
    "print(clf.best_params_)"
   ]
  },
  {
   "cell_type": "code",
   "execution_count": 50,
   "metadata": {},
   "outputs": [
    {
     "name": "stdout",
     "output_type": "stream",
     "text": [
      "Accuracy=0.8972\n",
      "             precision    recall  f1-score   support\n",
      "\n",
      "          0       0.91      0.99      0.94       793\n",
      "          1       0.73      0.27      0.39       112\n",
      "\n",
      "avg / total       0.88      0.90      0.88       905\n",
      "\n",
      "AUC - ROC : 0.627\n"
     ]
    },
    {
     "data": {
      "image/png": "[encoded data removed]",
      "text/plain": [
       "<matplotlib.figure.Figure at 0x11fd2ff98>"
      ]
     },
     "metadata": {},
     "output_type": "display_data"
    }
   ],
   "source": [
    "clf = RandomForestClassifier(random_state=0,n_estimators=151, criterion='entropy', max_depth=20,min_weight_fraction_leaf=0.0) \n",
    "clf.fit(X_train,y_train)\n",
    "print(\"Accuracy={}\".format(round((clf.fit(X_train,y_train).score(X_test, y_test)),4)))\n",
    "print(classification_report(y_test, clf.predict(X_test)))\n",
    "print (\"AUC - ROC : {}\".format(round(roc_auc_score(y_test, clf.predict(X_test)),4)))\n",
    "cnf_matrix = confusion_matrix(y_test, clf.predict(X_test))\n",
    "fig, ax = plot_confusion_matrix(conf_mat=np.array(cnf_matrix))\n",
    "plt.show()"
   ]
  },
  {
   "cell_type": "markdown",
   "metadata": {},
   "source": [
    "从上表可以看出，这些变量'balance','duration','day'的标准化，模型性能有所提升，f1升至0.88，AUC提升到0.627。"
   ]
  },
  {
   "cell_type": "markdown",
   "metadata": {},
   "source": [
    "### 6）尝试5：尝试多项式变换（表现提升）"
   ]
  },
  {
   "cell_type": "code",
   "execution_count": 52,
   "metadata": {},
   "outputs": [
    {
     "data": {
      "text/html": [
       "<div>\n",
       "<style>\n",
       "    .dataframe thead tr:only-child th {\n",
       "        text-align: right;\n",
       "    }\n",
       "\n",
       "    .dataframe thead th {\n",
       "        text-align: left;\n",
       "    }\n",
       "\n",
       "    .dataframe tbody tr th {\n",
       "        vertical-align: top;\n",
       "    }\n",
       "</style>\n",
       "<table border=\"1\" class=\"dataframe\">\n",
       "  <thead>\n",
       "    <tr style=\"text-align: right;\">\n",
       "      <th></th>\n",
       "      <th>1</th>\n",
       "      <th>x0</th>\n",
       "      <th>x1</th>\n",
       "      <th>x2</th>\n",
       "      <th>x3</th>\n",
       "      <th>x4</th>\n",
       "      <th>x5</th>\n",
       "      <th>x6</th>\n",
       "      <th>x7</th>\n",
       "      <th>x8</th>\n",
       "      <th>...</th>\n",
       "      <th>x40^2</th>\n",
       "      <th>x40 x41</th>\n",
       "      <th>x40 x42</th>\n",
       "      <th>x40 x43</th>\n",
       "      <th>x41^2</th>\n",
       "      <th>x41 x42</th>\n",
       "      <th>x41 x43</th>\n",
       "      <th>x42^2</th>\n",
       "      <th>x42 x43</th>\n",
       "      <th>x43^2</th>\n",
       "    </tr>\n",
       "  </thead>\n",
       "  <tbody>\n",
       "    <tr>\n",
       "      <th>0</th>\n",
       "      <td>1.0</td>\n",
       "      <td>0.0</td>\n",
       "      <td>0.0</td>\n",
       "      <td>0.0</td>\n",
       "      <td>0.0</td>\n",
       "      <td>0.0</td>\n",
       "      <td>0.0</td>\n",
       "      <td>0.0</td>\n",
       "      <td>0.0</td>\n",
       "      <td>0.0</td>\n",
       "      <td>...</td>\n",
       "      <td>0.506746</td>\n",
       "      <td>-0.711861</td>\n",
       "      <td>0.711861</td>\n",
       "      <td>-0.000000</td>\n",
       "      <td>1.0</td>\n",
       "      <td>-1.0</td>\n",
       "      <td>0.0</td>\n",
       "      <td>1.0</td>\n",
       "      <td>-0.0</td>\n",
       "      <td>0.0</td>\n",
       "    </tr>\n",
       "    <tr>\n",
       "      <th>1</th>\n",
       "      <td>1.0</td>\n",
       "      <td>0.0</td>\n",
       "      <td>0.0</td>\n",
       "      <td>0.0</td>\n",
       "      <td>0.0</td>\n",
       "      <td>0.0</td>\n",
       "      <td>0.0</td>\n",
       "      <td>0.0</td>\n",
       "      <td>1.0</td>\n",
       "      <td>0.0</td>\n",
       "      <td>...</td>\n",
       "      <td>0.028627</td>\n",
       "      <td>-0.169194</td>\n",
       "      <td>-57.356729</td>\n",
       "      <td>-0.676776</td>\n",
       "      <td>1.0</td>\n",
       "      <td>339.0</td>\n",
       "      <td>4.0</td>\n",
       "      <td>114921.0</td>\n",
       "      <td>1356.0</td>\n",
       "      <td>16.0</td>\n",
       "    </tr>\n",
       "    <tr>\n",
       "      <th>2</th>\n",
       "      <td>1.0</td>\n",
       "      <td>0.0</td>\n",
       "      <td>0.0</td>\n",
       "      <td>0.0</td>\n",
       "      <td>0.0</td>\n",
       "      <td>1.0</td>\n",
       "      <td>0.0</td>\n",
       "      <td>0.0</td>\n",
       "      <td>0.0</td>\n",
       "      <td>0.0</td>\n",
       "      <td>...</td>\n",
       "      <td>0.092354</td>\n",
       "      <td>-0.303898</td>\n",
       "      <td>-100.286486</td>\n",
       "      <td>-0.303898</td>\n",
       "      <td>1.0</td>\n",
       "      <td>330.0</td>\n",
       "      <td>1.0</td>\n",
       "      <td>108900.0</td>\n",
       "      <td>330.0</td>\n",
       "      <td>1.0</td>\n",
       "    </tr>\n",
       "    <tr>\n",
       "      <th>3</th>\n",
       "      <td>1.0</td>\n",
       "      <td>0.0</td>\n",
       "      <td>0.0</td>\n",
       "      <td>0.0</td>\n",
       "      <td>0.0</td>\n",
       "      <td>1.0</td>\n",
       "      <td>0.0</td>\n",
       "      <td>0.0</td>\n",
       "      <td>0.0</td>\n",
       "      <td>0.0</td>\n",
       "      <td>...</td>\n",
       "      <td>0.062508</td>\n",
       "      <td>-1.000066</td>\n",
       "      <td>0.250017</td>\n",
       "      <td>-0.000000</td>\n",
       "      <td>16.0</td>\n",
       "      <td>-4.0</td>\n",
       "      <td>0.0</td>\n",
       "      <td>1.0</td>\n",
       "      <td>-0.0</td>\n",
       "      <td>0.0</td>\n",
       "    </tr>\n",
       "    <tr>\n",
       "      <th>4</th>\n",
       "      <td>1.0</td>\n",
       "      <td>0.0</td>\n",
       "      <td>1.0</td>\n",
       "      <td>0.0</td>\n",
       "      <td>0.0</td>\n",
       "      <td>0.0</td>\n",
       "      <td>0.0</td>\n",
       "      <td>0.0</td>\n",
       "      <td>0.0</td>\n",
       "      <td>0.0</td>\n",
       "      <td>...</td>\n",
       "      <td>0.021346</td>\n",
       "      <td>-0.146102</td>\n",
       "      <td>0.146102</td>\n",
       "      <td>-0.000000</td>\n",
       "      <td>1.0</td>\n",
       "      <td>-1.0</td>\n",
       "      <td>0.0</td>\n",
       "      <td>1.0</td>\n",
       "      <td>-0.0</td>\n",
       "      <td>0.0</td>\n",
       "    </tr>\n",
       "  </tbody>\n",
       "</table>\n",
       "<p>5 rows × 1035 columns</p>\n",
       "</div>"
      ],
      "text/plain": [
       "     1   x0   x1   x2   x3   x4   x5   x6   x7   x8  ...       x40^2  \\\n",
       "0  1.0  0.0  0.0  0.0  0.0  0.0  0.0  0.0  0.0  0.0  ...    0.506746   \n",
       "1  1.0  0.0  0.0  0.0  0.0  0.0  0.0  0.0  1.0  0.0  ...    0.028627   \n",
       "2  1.0  0.0  0.0  0.0  0.0  1.0  0.0  0.0  0.0  0.0  ...    0.092354   \n",
       "3  1.0  0.0  0.0  0.0  0.0  1.0  0.0  0.0  0.0  0.0  ...    0.062508   \n",
       "4  1.0  0.0  1.0  0.0  0.0  0.0  0.0  0.0  0.0  0.0  ...    0.021346   \n",
       "\n",
       "    x40 x41     x40 x42   x40 x43  x41^2  x41 x42  x41 x43     x42^2  x42 x43  \\\n",
       "0 -0.711861    0.711861 -0.000000    1.0     -1.0      0.0       1.0     -0.0   \n",
       "1 -0.169194  -57.356729 -0.676776    1.0    339.0      4.0  114921.0   1356.0   \n",
       "2 -0.303898 -100.286486 -0.303898    1.0    330.0      1.0  108900.0    330.0   \n",
       "3 -1.000066    0.250017 -0.000000   16.0     -4.0      0.0       1.0     -0.0   \n",
       "4 -0.146102    0.146102 -0.000000    1.0     -1.0      0.0       1.0     -0.0   \n",
       "\n",
       "   x43^2  \n",
       "0    0.0  \n",
       "1   16.0  \n",
       "2    1.0  \n",
       "3    0.0  \n",
       "4    0.0  \n",
       "\n",
       "[5 rows x 1035 columns]"
      ]
     },
     "execution_count": 52,
     "metadata": {},
     "output_type": "execute_result"
    }
   ],
   "source": [
    "X = df_full4.iloc[:,list(range(0,(df_full4.shape[1]-1)))]\n",
    "y = df_full4[\"y\"] \n",
    "poly = PolynomialFeatures(2)\n",
    "temp = poly.fit_transform(X)\n",
    "df_full5 = pd.DataFrame(temp, columns=poly.get_feature_names())\n",
    "df_full5.head()"
   ]
  },
  {
   "cell_type": "markdown",
   "metadata": {},
   "source": [
    "由于将变量作非线性变换后，数据列数大大增加到1035。我们暂时不做参数调节，保留基本模型的最优参数。"
   ]
  },
  {
   "cell_type": "code",
   "execution_count": 55,
   "metadata": {},
   "outputs": [
    {
     "name": "stdout",
     "output_type": "stream",
     "text": [
      "Accuracy=0.9006\n",
      "             precision    recall  f1-score   support\n",
      "\n",
      "          0       0.92      0.97      0.94       793\n",
      "          1       0.66      0.40      0.50       112\n",
      "\n",
      "avg / total       0.89      0.90      0.89       905\n",
      "\n",
      "AUC - ROC : 0.6864\n"
     ]
    },
    {
     "data": {
      "image/png": "[encoded data removed]",
      "text/plain": [
       "<matplotlib.figure.Figure at 0x11fb61550>"
      ]
     },
     "metadata": {},
     "output_type": "display_data"
    }
   ],
   "source": [
    "X = df_full5\n",
    "X_train, X_test, y_train, y_test = train_test_split(X, y, test_size=0.2, random_state=0)  \n",
    "clf = RandomForestClassifier(random_state=0,n_estimators=171, criterion='entropy', max_depth=30, min_weight_fraction_leaf=0.0) \n",
    "clf.fit(X_train,y_train)\n",
    "print(\"Accuracy={}\".format(round((clf.fit(X_train,y_train).score(X_test, y_test)),4)))\n",
    "print(classification_report(y_test, clf.predict(X_test)))\n",
    "print (\"AUC - ROC : {}\".format(round(roc_auc_score(y_test, clf.predict(X_test)),4)))\n",
    "cnf_matrix = confusion_matrix(y_test, clf.predict(X_test))\n",
    "fig, ax = plot_confusion_matrix(conf_mat=np.array(cnf_matrix))\n",
    "plt.show()"
   ]
  },
  {
   "cell_type": "markdown",
   "metadata": {},
   "source": [
    "从上表可以看出，特征的多项式变换使得模型表现有所提升，f1提升至0.89，AUC提升到0.6864。"
   ]
  },
  {
   "cell_type": "markdown",
   "metadata": {},
   "source": [
    "由于多项式变换之后，模型表现提升明显，我们猜测是否存在非线性的特征贡献明显，但进一步检查一下变量的重要性，发现比较重要的变量依然是单个变量，而非变量的组合及非线性变换。"
   ]
  },
  {
   "cell_type": "code",
   "execution_count": 60,
   "metadata": {},
   "outputs": [
    {
     "name": "stdout",
     "output_type": "stream",
     "text": [
      " 1 1                              0.032738\n",
      " 2 x0                             0.026955\n",
      " 3 x1                             0.026100\n",
      " 4 x2                             0.026046\n",
      " 5 x3                             0.024505\n",
      " 6 x4                             0.023097\n",
      " 7 x5                             0.022913\n",
      " 8 x6                             0.022845\n",
      " 9 x7                             0.016468\n",
      "10 x8                             0.014440\n",
      "11 x9                             0.014102\n",
      "12 x10                            0.011514\n",
      "13 x11                            0.008864\n",
      "14 x12                            0.008755\n",
      "15 x13                            0.008417\n",
      "16 x14                            0.007858\n",
      "17 x15                            0.007741\n",
      "18 x16                            0.007724\n",
      "19 x17                            0.007663\n",
      "20 x18                            0.007501\n",
      "21 x19                            0.007474\n",
      "22 x20                            0.007459\n",
      "23 x21                            0.007425\n",
      "24 x22                            0.007148\n",
      "25 x23                            0.006937\n",
      "26 x24                            0.006853\n",
      "27 x25                            0.006765\n",
      "28 x26                            0.006662\n",
      "29 x27                            0.006622\n",
      "30 x28                            0.006578\n",
      "31 x29                            0.006375\n",
      "32 x30                            0.005929\n",
      "33 x31                            0.005809\n",
      "34 x32                            0.005751\n",
      "35 x33                            0.005603\n",
      "36 x34                            0.005459\n",
      "37 x35                            0.005316\n",
      "38 x36                            0.005203\n",
      "39 x37                            0.005201\n",
      "40 x38                            0.004949\n",
      "41 x39                            0.004751\n",
      "42 x40                            0.004726\n",
      "43 x41                            0.004441\n",
      "44 x42                            0.004107\n",
      "45 x43                            0.004104\n",
      "46 x0^2                           0.004075\n",
      "47 x0 x1                          0.004034\n",
      "48 x0 x2                          0.004029\n",
      "49 x0 x3                          0.004018\n",
      "50 x0 x4                          0.004017\n"
     ]
    }
   ],
   "source": [
    "## 查看重要性排前50的变量\n",
    "label = X.columns[0:]\n",
    "importances = clf.feature_importances_\n",
    "indices = np.argsort(importances)[::-1]\n",
    "for f in range(50):\n",
    "    print(\"%2d %-*s %f\" % (f+1,30,label[f],importances[indices[f]]))"
   ]
  },
  {
   "cell_type": "markdown",
   "metadata": {},
   "source": [
    "## 4. 小结"
   ]
  },
  {
   "cell_type": "markdown",
   "metadata": {},
   "source": [
    "本案例基于葡萄牙银行机构营销数据集的4521个样本,17个特征。利用其中和客户个人信息及接受的营销活动相关的变量（前16个），建立随机森林的模型，对'客户是否订阅定期存款'变量（变量名为'y'）进行预测。"
   ]
  },
  {
   "cell_type": "markdown",
   "metadata": {},
   "source": [
    "在数据的特征变换方面，除了基本模型，我们尝试了将年龄变量离散化，剔除不重要的特征，其他数值变量离散化，数值变量标准化以及特征多项式变换等方式。"
   ]
  },
  {
   "cell_type": "markdown",
   "metadata": {},
   "source": [
    "在调参方面，考虑到我们使用的数据集比较小，故'max_features'，'min_samples_leaf'，'min_samples_split'我们都采用默认值，而对于'n_estimators'，'criterion'，'entropy'以及'min_weight_fraction_leaf'，我们采用先调节'n_estimators'，再用grid search调'criterion'，'entropy'以及'min_weight_fraction_leaf'，再回调'n_estimators'的方式。在最优模型中，这些参数的最优值为n_estimators=171, criterion='entropy', max_depth=30, min_weight_fraction_leaf=0.0。"
   ]
  },
  {
   "cell_type": "markdown",
   "metadata": {},
   "source": [
    "在模型评估方面，由于数据存在样本不平衡问题，所以我们主要参考F1和AUC作为模型评估指标，我们先后尝试了多种特征变换的方式，并依次进行了调参，其中特征多项式变换之后的模型收到了最好的评估效果，而数值变量的离散化、标准化等特征变换均收到了模型性能提升的效果。具体如下："
   ]
  },
  {
   "cell_type": "code",
   "execution_count": 61,
   "metadata": {},
   "outputs": [
    {
     "name": "stdout",
     "output_type": "stream",
     "text": [
      "基本模型：F1= 0.87，AUC=0.6111\n",
      "年龄离散化：F1= 0.87，AUC=0.6225\n",
      "保留重要特征：F1= 0.85，AUC=0.5523\n",
      "其他数值变量离散化：F1= 0.87，AUC=0.6315\n",
      "数值变量标准化：F1= 0.88，AUC=0.627\n",
      "特征多项式变换：F1= 0.89，AUC=0.6864\n"
     ]
    }
   ],
   "source": [
    "print('基本模型：F1= 0.87，AUC=0.6111\\n年龄离散化：F1= 0.87，AUC=0.6225\\n保留重要特征：F1= 0.85，AUC=0.5523\\n其他数值变量离散化：F1= 0.87，AUC=0.6315\\n数值变量标准化：F1= 0.88，AUC=0.627\\n特征多项式变换：F1= 0.89，AUC=0.6864')"
   ]
  },
  {
   "cell_type": "markdown",
   "metadata": {},
   "source": [
    "回顾数据的现实背景，我们发现在对'客户是否订阅定期存款'变量的预测的问题中，按照重要性从高到低的变量分别是，职业类型、婚姻状况、联系方式类型等，其中'职业是否为管理人员'为最重要的变量（虚拟变量），重要性为0.28，之后依次是'职业是否为体力劳动者' （重要性0.099），'职业是否为企业家'（重要性为0.084），'职业是否为家政人员'（重要性为0.045）。 "
   ]
  }
 ],
 "metadata": {
  "kernelspec": {
   "display_name": "Python 3",
   "language": "python",
   "name": "python3"
  },
  "language_info": {
   "codemirror_mode": {
    "name": "ipython",
    "version": 3
   },
   "file_extension": ".py",
   "mimetype": "text/x-python",
   "name": "python",
   "nbconvert_exporter": "python",
   "pygments_lexer": "ipython3",
   "version": "3.6.1"
  }
 },
 "nbformat": 4,
 "nbformat_minor": 2
}
